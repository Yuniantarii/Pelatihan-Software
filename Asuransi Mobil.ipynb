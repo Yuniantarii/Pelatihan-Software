{
 "cells": [
  {
   "cell_type": "code",
   "execution_count": 4,
   "id": "19225570",
   "metadata": {},
   "outputs": [],
   "source": [
    "#import library terlebih dahulu\n",
    "import pandas as pd\n",
    "import numpy as np\n",
    "import matplotlib.pyplot as plt\n",
    "import seaborn as sns"
   ]
  },
  {
   "cell_type": "code",
   "execution_count": 6,
   "id": "f91cec93",
   "metadata": {},
   "outputs": [
    {
     "name": "stdout",
     "output_type": "stream",
     "text": [
      "      Unnamed: 0  IDENTITAS                  UMUR JENIS_KELAMIN  \\\n",
      "0              0     569520   lebih dari 65 tahun     perempuan   \n",
      "1              1     750365  kurang dari 25 tahun     laki-laki   \n",
      "2              2     199901  kurang dari 25 tahun     perempuan   \n",
      "3              3     478866  kurang dari 25 tahun     laki-laki   \n",
      "4              4     731664    antara 25-40 tahun     laki-laki   \n",
      "...          ...        ...                   ...           ...   \n",
      "9995        9995     323164    antara 25-40 tahun     perempuan   \n",
      "9996        9996     910346    antara 25-40 tahun     perempuan   \n",
      "9997        9997     468409    antara 25-40 tahun     laki-laki   \n",
      "9998        9998     903459    antara 25-40 tahun     perempuan   \n",
      "9999        9999     442696    antara 25-40 tahun     perempuan   \n",
      "\n",
      "      PENGALAMAN_MENGEMUDI   PENDIDIKAN        PENGHASILAN  SKOR_KREDIT  \\\n",
      "0     kurang dari 10 tahun          SMA  lebih dari 3x UMR     0.629027   \n",
      "1     kurang dari 10 tahun    tidak ada    kurang dari UMR     0.357757   \n",
      "2     kurang dari 10 tahun          SMA    antara 1-2x UMR     0.493146   \n",
      "3     kurang dari 10 tahun  universitas    antara 1-2x UMR     0.206013   \n",
      "4       antara 10-20 tahun    tidak ada    antara 1-2x UMR     0.388366   \n",
      "...                    ...          ...                ...          ...   \n",
      "9995    antara 10-20 tahun  universitas  lebih dari 3x UMR     0.582787   \n",
      "9996    antara 10-20 tahun    tidak ada    antara 2-3x UMR     0.522231   \n",
      "9997  kurang dari 10 tahun          SMA    antara 2-3x UMR     0.470940   \n",
      "9998    antara 10-20 tahun          SMA    kurang dari UMR     0.364185   \n",
      "9999  kurang dari 10 tahun    tidak ada    antara 1-2x UMR     0.435225   \n",
      "\n",
      "     PEMILIK_KENDARAAN TAHUN_PRODUKSI         STATUS       ANAK  KODE_POS  \\\n",
      "0                   ya   setelah 2020  belum menikah        ada     10238   \n",
      "1                tidak   sebelum 2020  belum menikah  tidak ada     10238   \n",
      "2                   ya   sebelum 2020  belum menikah  tidak ada     10238   \n",
      "3                   ya   sebelum 2020  belum menikah        ada     32765   \n",
      "4                   ya   sebelum 2020  belum menikah  tidak ada     32765   \n",
      "...                ...            ...            ...        ...       ...   \n",
      "9995                ya   sebelum 2020  belum menikah  tidak ada     10238   \n",
      "9996                ya   setelah 2020  belum menikah        ada     32765   \n",
      "9997                ya   sebelum 2020  belum menikah        ada     10238   \n",
      "9998             tidak   sebelum 2020  belum menikah        ada     10238   \n",
      "9999                ya   sebelum 2020        menikah        ada     10238   \n",
      "\n",
      "      KM_PER_TAHUN JENIS_KENDARAAN  TILANG_NGEBUT  TILANG_MABUK  \\\n",
      "0          12000.0        keluarga              0             0   \n",
      "1          16000.0        keluarga              0             0   \n",
      "2          11000.0        keluarga              0             0   \n",
      "3          11000.0        keluarga              0             0   \n",
      "4          12000.0        keluarga              2             0   \n",
      "...            ...             ...            ...           ...   \n",
      "9995       16000.0        keluarga              0             0   \n",
      "9996           NaN        keluarga              1             0   \n",
      "9997       14000.0        keluarga              0             0   \n",
      "9998       13000.0        keluarga              2             0   \n",
      "9999       13000.0        keluarga              0             0   \n",
      "\n",
      "      KECELAKAAN_SEBELUMNYA  KLAIM  \n",
      "0                         0  tidak  \n",
      "1                         0     ya  \n",
      "2                         0  tidak  \n",
      "3                         0  tidak  \n",
      "4                         1     ya  \n",
      "...                     ...    ...  \n",
      "9995                      1  tidak  \n",
      "9996                      0  tidak  \n",
      "9997                      0  tidak  \n",
      "9998                      1     ya  \n",
      "9999                      0  tidak  \n",
      "\n",
      "[10000 rows x 19 columns]\n"
     ]
    }
   ],
   "source": [
    "#panggil data asurabsi_mobil di excel\n",
    "#pastikan sudah di folder yang sama\n",
    "asuransi_mobil = pd.read_csv('asuransi_mobil.csv')\n",
    "print(asuransi_mobil)"
   ]
  },
  {
   "cell_type": "code",
   "execution_count": 7,
   "id": "7bf86bba",
   "metadata": {},
   "outputs": [
    {
     "data": {
      "text/html": [
       "<div>\n",
       "<style scoped>\n",
       "    .dataframe tbody tr th:only-of-type {\n",
       "        vertical-align: middle;\n",
       "    }\n",
       "\n",
       "    .dataframe tbody tr th {\n",
       "        vertical-align: top;\n",
       "    }\n",
       "\n",
       "    .dataframe thead th {\n",
       "        text-align: right;\n",
       "    }\n",
       "</style>\n",
       "<table border=\"1\" class=\"dataframe\">\n",
       "  <thead>\n",
       "    <tr style=\"text-align: right;\">\n",
       "      <th></th>\n",
       "      <th>Unnamed: 0</th>\n",
       "      <th>IDENTITAS</th>\n",
       "      <th>UMUR</th>\n",
       "      <th>JENIS_KELAMIN</th>\n",
       "      <th>PENGALAMAN_MENGEMUDI</th>\n",
       "      <th>PENDIDIKAN</th>\n",
       "      <th>PENGHASILAN</th>\n",
       "      <th>SKOR_KREDIT</th>\n",
       "      <th>PEMILIK_KENDARAAN</th>\n",
       "      <th>TAHUN_PRODUKSI</th>\n",
       "      <th>STATUS</th>\n",
       "      <th>ANAK</th>\n",
       "      <th>KODE_POS</th>\n",
       "      <th>KM_PER_TAHUN</th>\n",
       "      <th>JENIS_KENDARAAN</th>\n",
       "      <th>TILANG_NGEBUT</th>\n",
       "      <th>TILANG_MABUK</th>\n",
       "      <th>KECELAKAAN_SEBELUMNYA</th>\n",
       "      <th>KLAIM</th>\n",
       "    </tr>\n",
       "  </thead>\n",
       "  <tbody>\n",
       "    <tr>\n",
       "      <th>0</th>\n",
       "      <td>0</td>\n",
       "      <td>569520</td>\n",
       "      <td>lebih dari 65 tahun</td>\n",
       "      <td>perempuan</td>\n",
       "      <td>kurang dari 10 tahun</td>\n",
       "      <td>SMA</td>\n",
       "      <td>lebih dari 3x UMR</td>\n",
       "      <td>0.629027</td>\n",
       "      <td>ya</td>\n",
       "      <td>setelah 2020</td>\n",
       "      <td>belum menikah</td>\n",
       "      <td>ada</td>\n",
       "      <td>10238</td>\n",
       "      <td>12000.0</td>\n",
       "      <td>keluarga</td>\n",
       "      <td>0</td>\n",
       "      <td>0</td>\n",
       "      <td>0</td>\n",
       "      <td>tidak</td>\n",
       "    </tr>\n",
       "    <tr>\n",
       "      <th>1</th>\n",
       "      <td>1</td>\n",
       "      <td>750365</td>\n",
       "      <td>kurang dari 25 tahun</td>\n",
       "      <td>laki-laki</td>\n",
       "      <td>kurang dari 10 tahun</td>\n",
       "      <td>tidak ada</td>\n",
       "      <td>kurang dari UMR</td>\n",
       "      <td>0.357757</td>\n",
       "      <td>tidak</td>\n",
       "      <td>sebelum 2020</td>\n",
       "      <td>belum menikah</td>\n",
       "      <td>tidak ada</td>\n",
       "      <td>10238</td>\n",
       "      <td>16000.0</td>\n",
       "      <td>keluarga</td>\n",
       "      <td>0</td>\n",
       "      <td>0</td>\n",
       "      <td>0</td>\n",
       "      <td>ya</td>\n",
       "    </tr>\n",
       "    <tr>\n",
       "      <th>2</th>\n",
       "      <td>2</td>\n",
       "      <td>199901</td>\n",
       "      <td>kurang dari 25 tahun</td>\n",
       "      <td>perempuan</td>\n",
       "      <td>kurang dari 10 tahun</td>\n",
       "      <td>SMA</td>\n",
       "      <td>antara 1-2x UMR</td>\n",
       "      <td>0.493146</td>\n",
       "      <td>ya</td>\n",
       "      <td>sebelum 2020</td>\n",
       "      <td>belum menikah</td>\n",
       "      <td>tidak ada</td>\n",
       "      <td>10238</td>\n",
       "      <td>11000.0</td>\n",
       "      <td>keluarga</td>\n",
       "      <td>0</td>\n",
       "      <td>0</td>\n",
       "      <td>0</td>\n",
       "      <td>tidak</td>\n",
       "    </tr>\n",
       "    <tr>\n",
       "      <th>3</th>\n",
       "      <td>3</td>\n",
       "      <td>478866</td>\n",
       "      <td>kurang dari 25 tahun</td>\n",
       "      <td>laki-laki</td>\n",
       "      <td>kurang dari 10 tahun</td>\n",
       "      <td>universitas</td>\n",
       "      <td>antara 1-2x UMR</td>\n",
       "      <td>0.206013</td>\n",
       "      <td>ya</td>\n",
       "      <td>sebelum 2020</td>\n",
       "      <td>belum menikah</td>\n",
       "      <td>ada</td>\n",
       "      <td>32765</td>\n",
       "      <td>11000.0</td>\n",
       "      <td>keluarga</td>\n",
       "      <td>0</td>\n",
       "      <td>0</td>\n",
       "      <td>0</td>\n",
       "      <td>tidak</td>\n",
       "    </tr>\n",
       "    <tr>\n",
       "      <th>4</th>\n",
       "      <td>4</td>\n",
       "      <td>731664</td>\n",
       "      <td>antara 25-40 tahun</td>\n",
       "      <td>laki-laki</td>\n",
       "      <td>antara 10-20 tahun</td>\n",
       "      <td>tidak ada</td>\n",
       "      <td>antara 1-2x UMR</td>\n",
       "      <td>0.388366</td>\n",
       "      <td>ya</td>\n",
       "      <td>sebelum 2020</td>\n",
       "      <td>belum menikah</td>\n",
       "      <td>tidak ada</td>\n",
       "      <td>32765</td>\n",
       "      <td>12000.0</td>\n",
       "      <td>keluarga</td>\n",
       "      <td>2</td>\n",
       "      <td>0</td>\n",
       "      <td>1</td>\n",
       "      <td>ya</td>\n",
       "    </tr>\n",
       "  </tbody>\n",
       "</table>\n",
       "</div>"
      ],
      "text/plain": [
       "   Unnamed: 0  IDENTITAS                  UMUR JENIS_KELAMIN  \\\n",
       "0           0     569520   lebih dari 65 tahun     perempuan   \n",
       "1           1     750365  kurang dari 25 tahun     laki-laki   \n",
       "2           2     199901  kurang dari 25 tahun     perempuan   \n",
       "3           3     478866  kurang dari 25 tahun     laki-laki   \n",
       "4           4     731664    antara 25-40 tahun     laki-laki   \n",
       "\n",
       "   PENGALAMAN_MENGEMUDI   PENDIDIKAN        PENGHASILAN  SKOR_KREDIT  \\\n",
       "0  kurang dari 10 tahun          SMA  lebih dari 3x UMR     0.629027   \n",
       "1  kurang dari 10 tahun    tidak ada    kurang dari UMR     0.357757   \n",
       "2  kurang dari 10 tahun          SMA    antara 1-2x UMR     0.493146   \n",
       "3  kurang dari 10 tahun  universitas    antara 1-2x UMR     0.206013   \n",
       "4    antara 10-20 tahun    tidak ada    antara 1-2x UMR     0.388366   \n",
       "\n",
       "  PEMILIK_KENDARAAN TAHUN_PRODUKSI         STATUS       ANAK  KODE_POS  \\\n",
       "0                ya   setelah 2020  belum menikah        ada     10238   \n",
       "1             tidak   sebelum 2020  belum menikah  tidak ada     10238   \n",
       "2                ya   sebelum 2020  belum menikah  tidak ada     10238   \n",
       "3                ya   sebelum 2020  belum menikah        ada     32765   \n",
       "4                ya   sebelum 2020  belum menikah  tidak ada     32765   \n",
       "\n",
       "   KM_PER_TAHUN JENIS_KENDARAAN  TILANG_NGEBUT  TILANG_MABUK  \\\n",
       "0       12000.0        keluarga              0             0   \n",
       "1       16000.0        keluarga              0             0   \n",
       "2       11000.0        keluarga              0             0   \n",
       "3       11000.0        keluarga              0             0   \n",
       "4       12000.0        keluarga              2             0   \n",
       "\n",
       "   KECELAKAAN_SEBELUMNYA  KLAIM  \n",
       "0                      0  tidak  \n",
       "1                      0     ya  \n",
       "2                      0  tidak  \n",
       "3                      0  tidak  \n",
       "4                      1     ya  "
      ]
     },
     "execution_count": 7,
     "metadata": {},
     "output_type": "execute_result"
    }
   ],
   "source": [
    "asuransi_mobil.head()"
   ]
  },
  {
   "cell_type": "code",
   "execution_count": 9,
   "id": "21593bef",
   "metadata": {},
   "outputs": [
    {
     "data": {
      "text/html": [
       "<div>\n",
       "<style scoped>\n",
       "    .dataframe tbody tr th:only-of-type {\n",
       "        vertical-align: middle;\n",
       "    }\n",
       "\n",
       "    .dataframe tbody tr th {\n",
       "        vertical-align: top;\n",
       "    }\n",
       "\n",
       "    .dataframe thead th {\n",
       "        text-align: right;\n",
       "    }\n",
       "</style>\n",
       "<table border=\"1\" class=\"dataframe\">\n",
       "  <thead>\n",
       "    <tr style=\"text-align: right;\">\n",
       "      <th></th>\n",
       "      <th>Unnamed: 0</th>\n",
       "      <th>IDENTITAS</th>\n",
       "      <th>SKOR_KREDIT</th>\n",
       "      <th>KODE_POS</th>\n",
       "      <th>KM_PER_TAHUN</th>\n",
       "      <th>TILANG_NGEBUT</th>\n",
       "      <th>TILANG_MABUK</th>\n",
       "      <th>KECELAKAAN_SEBELUMNYA</th>\n",
       "    </tr>\n",
       "  </thead>\n",
       "  <tbody>\n",
       "    <tr>\n",
       "      <th>count</th>\n",
       "      <td>10000.00000</td>\n",
       "      <td>10000.000000</td>\n",
       "      <td>9018.000000</td>\n",
       "      <td>10000.000000</td>\n",
       "      <td>9043.000000</td>\n",
       "      <td>10000.000000</td>\n",
       "      <td>10000.00000</td>\n",
       "      <td>10000.000000</td>\n",
       "    </tr>\n",
       "    <tr>\n",
       "      <th>mean</th>\n",
       "      <td>4999.50000</td>\n",
       "      <td>500521.906800</td>\n",
       "      <td>0.515813</td>\n",
       "      <td>19864.548400</td>\n",
       "      <td>11697.003207</td>\n",
       "      <td>1.482900</td>\n",
       "      <td>0.23920</td>\n",
       "      <td>1.056300</td>\n",
       "    </tr>\n",
       "    <tr>\n",
       "      <th>std</th>\n",
       "      <td>2886.89568</td>\n",
       "      <td>290030.768758</td>\n",
       "      <td>0.137688</td>\n",
       "      <td>18915.613855</td>\n",
       "      <td>2818.434528</td>\n",
       "      <td>2.241966</td>\n",
       "      <td>0.55499</td>\n",
       "      <td>1.652454</td>\n",
       "    </tr>\n",
       "    <tr>\n",
       "      <th>min</th>\n",
       "      <td>0.00000</td>\n",
       "      <td>101.000000</td>\n",
       "      <td>0.053358</td>\n",
       "      <td>10238.000000</td>\n",
       "      <td>2000.000000</td>\n",
       "      <td>0.000000</td>\n",
       "      <td>0.00000</td>\n",
       "      <td>0.000000</td>\n",
       "    </tr>\n",
       "    <tr>\n",
       "      <th>25%</th>\n",
       "      <td>2499.75000</td>\n",
       "      <td>249638.500000</td>\n",
       "      <td>0.417191</td>\n",
       "      <td>10238.000000</td>\n",
       "      <td>10000.000000</td>\n",
       "      <td>0.000000</td>\n",
       "      <td>0.00000</td>\n",
       "      <td>0.000000</td>\n",
       "    </tr>\n",
       "    <tr>\n",
       "      <th>50%</th>\n",
       "      <td>4999.50000</td>\n",
       "      <td>501777.000000</td>\n",
       "      <td>0.525033</td>\n",
       "      <td>10238.000000</td>\n",
       "      <td>12000.000000</td>\n",
       "      <td>0.000000</td>\n",
       "      <td>0.00000</td>\n",
       "      <td>0.000000</td>\n",
       "    </tr>\n",
       "    <tr>\n",
       "      <th>75%</th>\n",
       "      <td>7499.25000</td>\n",
       "      <td>753974.500000</td>\n",
       "      <td>0.618312</td>\n",
       "      <td>32765.000000</td>\n",
       "      <td>14000.000000</td>\n",
       "      <td>2.000000</td>\n",
       "      <td>0.00000</td>\n",
       "      <td>2.000000</td>\n",
       "    </tr>\n",
       "    <tr>\n",
       "      <th>max</th>\n",
       "      <td>9999.00000</td>\n",
       "      <td>999976.000000</td>\n",
       "      <td>0.960819</td>\n",
       "      <td>92101.000000</td>\n",
       "      <td>22000.000000</td>\n",
       "      <td>22.000000</td>\n",
       "      <td>6.00000</td>\n",
       "      <td>15.000000</td>\n",
       "    </tr>\n",
       "  </tbody>\n",
       "</table>\n",
       "</div>"
      ],
      "text/plain": [
       "        Unnamed: 0      IDENTITAS  SKOR_KREDIT      KODE_POS  KM_PER_TAHUN  \\\n",
       "count  10000.00000   10000.000000  9018.000000  10000.000000   9043.000000   \n",
       "mean    4999.50000  500521.906800     0.515813  19864.548400  11697.003207   \n",
       "std     2886.89568  290030.768758     0.137688  18915.613855   2818.434528   \n",
       "min        0.00000     101.000000     0.053358  10238.000000   2000.000000   \n",
       "25%     2499.75000  249638.500000     0.417191  10238.000000  10000.000000   \n",
       "50%     4999.50000  501777.000000     0.525033  10238.000000  12000.000000   \n",
       "75%     7499.25000  753974.500000     0.618312  32765.000000  14000.000000   \n",
       "max     9999.00000  999976.000000     0.960819  92101.000000  22000.000000   \n",
       "\n",
       "       TILANG_NGEBUT  TILANG_MABUK  KECELAKAAN_SEBELUMNYA  \n",
       "count   10000.000000   10000.00000           10000.000000  \n",
       "mean        1.482900       0.23920               1.056300  \n",
       "std         2.241966       0.55499               1.652454  \n",
       "min         0.000000       0.00000               0.000000  \n",
       "25%         0.000000       0.00000               0.000000  \n",
       "50%         0.000000       0.00000               0.000000  \n",
       "75%         2.000000       0.00000               2.000000  \n",
       "max        22.000000       6.00000              15.000000  "
      ]
     },
     "execution_count": 9,
     "metadata": {},
     "output_type": "execute_result"
    }
   ],
   "source": [
    "asuransi_mobil.describe()"
   ]
  },
  {
   "cell_type": "code",
   "execution_count": 10,
   "id": "77aae980",
   "metadata": {},
   "outputs": [
    {
     "data": {
      "text/plain": [
       "Unnamed: 0                 int64\n",
       "IDENTITAS                  int64\n",
       "UMUR                      object\n",
       "JENIS_KELAMIN             object\n",
       "PENGALAMAN_MENGEMUDI      object\n",
       "PENDIDIKAN                object\n",
       "PENGHASILAN               object\n",
       "SKOR_KREDIT              float64\n",
       "PEMILIK_KENDARAAN         object\n",
       "TAHUN_PRODUKSI            object\n",
       "STATUS                    object\n",
       "ANAK                      object\n",
       "KODE_POS                   int64\n",
       "KM_PER_TAHUN             float64\n",
       "JENIS_KENDARAAN           object\n",
       "TILANG_NGEBUT              int64\n",
       "TILANG_MABUK               int64\n",
       "KECELAKAAN_SEBELUMNYA      int64\n",
       "KLAIM                     object\n",
       "dtype: object"
      ]
     },
     "execution_count": 10,
     "metadata": {},
     "output_type": "execute_result"
    }
   ],
   "source": [
    "# Melihat type data apakah berupa integer, bilangan desimal, atau data kategori\n",
    "asuransi_mobil.dtypes"
   ]
  },
  {
   "cell_type": "code",
   "execution_count": 11,
   "id": "c008d462",
   "metadata": {
    "scrolled": true
   },
   "outputs": [
    {
     "data": {
      "text/plain": [
       "Unnamed: 0                 0\n",
       "IDENTITAS                  0\n",
       "UMUR                       0\n",
       "JENIS_KELAMIN              0\n",
       "PENGALAMAN_MENGEMUDI       0\n",
       "PENDIDIKAN                 0\n",
       "PENGHASILAN                0\n",
       "SKOR_KREDIT              982\n",
       "PEMILIK_KENDARAAN          0\n",
       "TAHUN_PRODUKSI             0\n",
       "STATUS                     0\n",
       "ANAK                       0\n",
       "KODE_POS                   0\n",
       "KM_PER_TAHUN             957\n",
       "JENIS_KENDARAAN            0\n",
       "TILANG_NGEBUT              0\n",
       "TILANG_MABUK               0\n",
       "KECELAKAAN_SEBELUMNYA      0\n",
       "KLAIM                      0\n",
       "dtype: int64"
      ]
     },
     "execution_count": 11,
     "metadata": {},
     "output_type": "execute_result"
    }
   ],
   "source": [
    "# mengecek apakah terdapat data yang kosong\n",
    "asuransi_mobil.isnull().sum()"
   ]
  },
  {
   "cell_type": "code",
   "execution_count": 34,
   "id": "7b0b5071",
   "metadata": {},
   "outputs": [
    {
     "data": {
      "text/html": [
       "<div>\n",
       "<style scoped>\n",
       "    .dataframe tbody tr th:only-of-type {\n",
       "        vertical-align: middle;\n",
       "    }\n",
       "\n",
       "    .dataframe tbody tr th {\n",
       "        vertical-align: top;\n",
       "    }\n",
       "\n",
       "    .dataframe thead th {\n",
       "        text-align: right;\n",
       "    }\n",
       "</style>\n",
       "<table border=\"1\" class=\"dataframe\">\n",
       "  <thead>\n",
       "    <tr style=\"text-align: right;\">\n",
       "      <th></th>\n",
       "      <th>Unnamed: 0</th>\n",
       "      <th>IDENTITAS</th>\n",
       "      <th>UMUR</th>\n",
       "      <th>JENIS_KELAMIN</th>\n",
       "      <th>PENGALAMAN_MENGEMUDI</th>\n",
       "      <th>PENDIDIKAN</th>\n",
       "      <th>PENGHASILAN</th>\n",
       "      <th>PEMILIK_KENDARAAN</th>\n",
       "      <th>TAHUN_PRODUKSI</th>\n",
       "      <th>STATUS</th>\n",
       "      <th>ANAK</th>\n",
       "      <th>KODE_POS</th>\n",
       "      <th>JENIS_KENDARAAN</th>\n",
       "      <th>TILANG_NGEBUT</th>\n",
       "      <th>TILANG_MABUK</th>\n",
       "      <th>KECELAKAAN_SEBELUMNYA</th>\n",
       "      <th>KLAIM</th>\n",
       "    </tr>\n",
       "  </thead>\n",
       "  <tbody>\n",
       "    <tr>\n",
       "      <th>0</th>\n",
       "      <td>0</td>\n",
       "      <td>569520</td>\n",
       "      <td>1</td>\n",
       "      <td>perempuan</td>\n",
       "      <td>kurang dari 10 tahun</td>\n",
       "      <td>SMA</td>\n",
       "      <td>lebih dari 3x UMR</td>\n",
       "      <td>ya</td>\n",
       "      <td>setelah 2020</td>\n",
       "      <td>belum menikah</td>\n",
       "      <td>ada</td>\n",
       "      <td>10238</td>\n",
       "      <td>keluarga</td>\n",
       "      <td>0</td>\n",
       "      <td>0</td>\n",
       "      <td>0</td>\n",
       "      <td>tidak</td>\n",
       "    </tr>\n",
       "    <tr>\n",
       "      <th>1</th>\n",
       "      <td>1</td>\n",
       "      <td>750365</td>\n",
       "      <td>4</td>\n",
       "      <td>laki-laki</td>\n",
       "      <td>kurang dari 10 tahun</td>\n",
       "      <td>tidak ada</td>\n",
       "      <td>kurang dari UMR</td>\n",
       "      <td>tidak</td>\n",
       "      <td>sebelum 2020</td>\n",
       "      <td>belum menikah</td>\n",
       "      <td>tidak ada</td>\n",
       "      <td>10238</td>\n",
       "      <td>keluarga</td>\n",
       "      <td>0</td>\n",
       "      <td>0</td>\n",
       "      <td>0</td>\n",
       "      <td>ya</td>\n",
       "    </tr>\n",
       "    <tr>\n",
       "      <th>2</th>\n",
       "      <td>2</td>\n",
       "      <td>199901</td>\n",
       "      <td>4</td>\n",
       "      <td>perempuan</td>\n",
       "      <td>kurang dari 10 tahun</td>\n",
       "      <td>SMA</td>\n",
       "      <td>antara 1-2x UMR</td>\n",
       "      <td>ya</td>\n",
       "      <td>sebelum 2020</td>\n",
       "      <td>belum menikah</td>\n",
       "      <td>tidak ada</td>\n",
       "      <td>10238</td>\n",
       "      <td>keluarga</td>\n",
       "      <td>0</td>\n",
       "      <td>0</td>\n",
       "      <td>0</td>\n",
       "      <td>tidak</td>\n",
       "    </tr>\n",
       "    <tr>\n",
       "      <th>3</th>\n",
       "      <td>3</td>\n",
       "      <td>478866</td>\n",
       "      <td>4</td>\n",
       "      <td>laki-laki</td>\n",
       "      <td>kurang dari 10 tahun</td>\n",
       "      <td>universitas</td>\n",
       "      <td>antara 1-2x UMR</td>\n",
       "      <td>ya</td>\n",
       "      <td>sebelum 2020</td>\n",
       "      <td>belum menikah</td>\n",
       "      <td>ada</td>\n",
       "      <td>32765</td>\n",
       "      <td>keluarga</td>\n",
       "      <td>0</td>\n",
       "      <td>0</td>\n",
       "      <td>0</td>\n",
       "      <td>tidak</td>\n",
       "    </tr>\n",
       "    <tr>\n",
       "      <th>4</th>\n",
       "      <td>4</td>\n",
       "      <td>731664</td>\n",
       "      <td>3</td>\n",
       "      <td>laki-laki</td>\n",
       "      <td>antara 10-20 tahun</td>\n",
       "      <td>tidak ada</td>\n",
       "      <td>antara 1-2x UMR</td>\n",
       "      <td>ya</td>\n",
       "      <td>sebelum 2020</td>\n",
       "      <td>belum menikah</td>\n",
       "      <td>tidak ada</td>\n",
       "      <td>32765</td>\n",
       "      <td>keluarga</td>\n",
       "      <td>2</td>\n",
       "      <td>0</td>\n",
       "      <td>1</td>\n",
       "      <td>ya</td>\n",
       "    </tr>\n",
       "    <tr>\n",
       "      <th>...</th>\n",
       "      <td>...</td>\n",
       "      <td>...</td>\n",
       "      <td>...</td>\n",
       "      <td>...</td>\n",
       "      <td>...</td>\n",
       "      <td>...</td>\n",
       "      <td>...</td>\n",
       "      <td>...</td>\n",
       "      <td>...</td>\n",
       "      <td>...</td>\n",
       "      <td>...</td>\n",
       "      <td>...</td>\n",
       "      <td>...</td>\n",
       "      <td>...</td>\n",
       "      <td>...</td>\n",
       "      <td>...</td>\n",
       "      <td>...</td>\n",
       "    </tr>\n",
       "    <tr>\n",
       "      <th>9995</th>\n",
       "      <td>9995</td>\n",
       "      <td>323164</td>\n",
       "      <td>3</td>\n",
       "      <td>perempuan</td>\n",
       "      <td>antara 10-20 tahun</td>\n",
       "      <td>universitas</td>\n",
       "      <td>lebih dari 3x UMR</td>\n",
       "      <td>ya</td>\n",
       "      <td>sebelum 2020</td>\n",
       "      <td>belum menikah</td>\n",
       "      <td>tidak ada</td>\n",
       "      <td>10238</td>\n",
       "      <td>keluarga</td>\n",
       "      <td>0</td>\n",
       "      <td>0</td>\n",
       "      <td>1</td>\n",
       "      <td>tidak</td>\n",
       "    </tr>\n",
       "    <tr>\n",
       "      <th>9996</th>\n",
       "      <td>9996</td>\n",
       "      <td>910346</td>\n",
       "      <td>3</td>\n",
       "      <td>perempuan</td>\n",
       "      <td>antara 10-20 tahun</td>\n",
       "      <td>tidak ada</td>\n",
       "      <td>antara 2-3x UMR</td>\n",
       "      <td>ya</td>\n",
       "      <td>setelah 2020</td>\n",
       "      <td>belum menikah</td>\n",
       "      <td>ada</td>\n",
       "      <td>32765</td>\n",
       "      <td>keluarga</td>\n",
       "      <td>1</td>\n",
       "      <td>0</td>\n",
       "      <td>0</td>\n",
       "      <td>tidak</td>\n",
       "    </tr>\n",
       "    <tr>\n",
       "      <th>9997</th>\n",
       "      <td>9997</td>\n",
       "      <td>468409</td>\n",
       "      <td>3</td>\n",
       "      <td>laki-laki</td>\n",
       "      <td>kurang dari 10 tahun</td>\n",
       "      <td>SMA</td>\n",
       "      <td>antara 2-3x UMR</td>\n",
       "      <td>ya</td>\n",
       "      <td>sebelum 2020</td>\n",
       "      <td>belum menikah</td>\n",
       "      <td>ada</td>\n",
       "      <td>10238</td>\n",
       "      <td>keluarga</td>\n",
       "      <td>0</td>\n",
       "      <td>0</td>\n",
       "      <td>0</td>\n",
       "      <td>tidak</td>\n",
       "    </tr>\n",
       "    <tr>\n",
       "      <th>9998</th>\n",
       "      <td>9998</td>\n",
       "      <td>903459</td>\n",
       "      <td>3</td>\n",
       "      <td>perempuan</td>\n",
       "      <td>antara 10-20 tahun</td>\n",
       "      <td>SMA</td>\n",
       "      <td>kurang dari UMR</td>\n",
       "      <td>tidak</td>\n",
       "      <td>sebelum 2020</td>\n",
       "      <td>belum menikah</td>\n",
       "      <td>ada</td>\n",
       "      <td>10238</td>\n",
       "      <td>keluarga</td>\n",
       "      <td>2</td>\n",
       "      <td>0</td>\n",
       "      <td>1</td>\n",
       "      <td>ya</td>\n",
       "    </tr>\n",
       "    <tr>\n",
       "      <th>9999</th>\n",
       "      <td>9999</td>\n",
       "      <td>442696</td>\n",
       "      <td>3</td>\n",
       "      <td>perempuan</td>\n",
       "      <td>kurang dari 10 tahun</td>\n",
       "      <td>tidak ada</td>\n",
       "      <td>antara 1-2x UMR</td>\n",
       "      <td>ya</td>\n",
       "      <td>sebelum 2020</td>\n",
       "      <td>menikah</td>\n",
       "      <td>ada</td>\n",
       "      <td>10238</td>\n",
       "      <td>keluarga</td>\n",
       "      <td>0</td>\n",
       "      <td>0</td>\n",
       "      <td>0</td>\n",
       "      <td>tidak</td>\n",
       "    </tr>\n",
       "  </tbody>\n",
       "</table>\n",
       "<p>10000 rows × 17 columns</p>\n",
       "</div>"
      ],
      "text/plain": [
       "      Unnamed: 0  IDENTITAS  UMUR JENIS_KELAMIN  PENGALAMAN_MENGEMUDI  \\\n",
       "0              0     569520     1     perempuan  kurang dari 10 tahun   \n",
       "1              1     750365     4     laki-laki  kurang dari 10 tahun   \n",
       "2              2     199901     4     perempuan  kurang dari 10 tahun   \n",
       "3              3     478866     4     laki-laki  kurang dari 10 tahun   \n",
       "4              4     731664     3     laki-laki    antara 10-20 tahun   \n",
       "...          ...        ...   ...           ...                   ...   \n",
       "9995        9995     323164     3     perempuan    antara 10-20 tahun   \n",
       "9996        9996     910346     3     perempuan    antara 10-20 tahun   \n",
       "9997        9997     468409     3     laki-laki  kurang dari 10 tahun   \n",
       "9998        9998     903459     3     perempuan    antara 10-20 tahun   \n",
       "9999        9999     442696     3     perempuan  kurang dari 10 tahun   \n",
       "\n",
       "       PENDIDIKAN        PENGHASILAN PEMILIK_KENDARAAN TAHUN_PRODUKSI  \\\n",
       "0             SMA  lebih dari 3x UMR                ya   setelah 2020   \n",
       "1       tidak ada    kurang dari UMR             tidak   sebelum 2020   \n",
       "2             SMA    antara 1-2x UMR                ya   sebelum 2020   \n",
       "3     universitas    antara 1-2x UMR                ya   sebelum 2020   \n",
       "4       tidak ada    antara 1-2x UMR                ya   sebelum 2020   \n",
       "...           ...                ...               ...            ...   \n",
       "9995  universitas  lebih dari 3x UMR                ya   sebelum 2020   \n",
       "9996    tidak ada    antara 2-3x UMR                ya   setelah 2020   \n",
       "9997          SMA    antara 2-3x UMR                ya   sebelum 2020   \n",
       "9998          SMA    kurang dari UMR             tidak   sebelum 2020   \n",
       "9999    tidak ada    antara 1-2x UMR                ya   sebelum 2020   \n",
       "\n",
       "             STATUS       ANAK  KODE_POS JENIS_KENDARAAN  TILANG_NGEBUT  \\\n",
       "0     belum menikah        ada     10238        keluarga              0   \n",
       "1     belum menikah  tidak ada     10238        keluarga              0   \n",
       "2     belum menikah  tidak ada     10238        keluarga              0   \n",
       "3     belum menikah        ada     32765        keluarga              0   \n",
       "4     belum menikah  tidak ada     32765        keluarga              2   \n",
       "...             ...        ...       ...             ...            ...   \n",
       "9995  belum menikah  tidak ada     10238        keluarga              0   \n",
       "9996  belum menikah        ada     32765        keluarga              1   \n",
       "9997  belum menikah        ada     10238        keluarga              0   \n",
       "9998  belum menikah        ada     10238        keluarga              2   \n",
       "9999        menikah        ada     10238        keluarga              0   \n",
       "\n",
       "      TILANG_MABUK  KECELAKAAN_SEBELUMNYA  KLAIM  \n",
       "0                0                      0  tidak  \n",
       "1                0                      0     ya  \n",
       "2                0                      0  tidak  \n",
       "3                0                      0  tidak  \n",
       "4                0                      1     ya  \n",
       "...            ...                    ...    ...  \n",
       "9995             0                      1  tidak  \n",
       "9996             0                      0  tidak  \n",
       "9997             0                      0  tidak  \n",
       "9998             0                      1     ya  \n",
       "9999             0                      0  tidak  \n",
       "\n",
       "[10000 rows x 17 columns]"
      ]
     },
     "execution_count": 34,
     "metadata": {},
     "output_type": "execute_result"
    }
   ],
   "source": [
    "# Drop data bentuk numeric karena akan dinormalisasi dulu\n",
    "asuransi_mobil.drop(columns=[\"SKOR_KREDIT\", \"KM_PER_TAHUN\"])"
   ]
  },
  {
   "cell_type": "code",
   "execution_count": 30,
   "id": "d8ada92d",
   "metadata": {},
   "outputs": [
    {
     "data": {
      "text/plain": [
       "array([569520, 750365, 199901, ..., 468409, 903459, 442696], dtype=int64)"
      ]
     },
     "execution_count": 30,
     "metadata": {},
     "output_type": "execute_result"
    }
   ],
   "source": [
    "# Melihat apa saja isi dari kolom IDENTITAS\n",
    "asuransi_mobil.IDENTITAS.unique()"
   ]
  },
  {
   "cell_type": "code",
   "execution_count": 13,
   "id": "41080881",
   "metadata": {},
   "outputs": [
    {
     "data": {
      "text/plain": [
       "array(['lebih dari 65 tahun', 'kurang dari 25 tahun',\n",
       "       'antara 25-40 tahun', 'antara 40-65 tahun'], dtype=object)"
      ]
     },
     "execution_count": 13,
     "metadata": {},
     "output_type": "execute_result"
    }
   ],
   "source": [
    "# Melihat apa saja isi dari kolom UMUR"
   ]
  },
  {
   "cell_type": "code",
   "execution_count": 14,
   "id": "7da6c6bd",
   "metadata": {},
   "outputs": [
    {
     "data": {
      "text/plain": [
       "array(['perempuan', 'laki-laki'], dtype=object)"
      ]
     },
     "execution_count": 14,
     "metadata": {},
     "output_type": "execute_result"
    }
   ],
   "source": [
    "# Melihat apa saja isi dari kolom JENIS_KELAMIN\n",
    "asuransi_mobil.JENIS_KELAMIN.unique()"
   ]
  },
  {
   "cell_type": "code",
   "execution_count": 15,
   "id": "2da26b27",
   "metadata": {},
   "outputs": [
    {
     "data": {
      "text/plain": [
       "array(['kurang dari 10 tahun', 'antara 10-20 tahun', 'antara 20-30 tahun',\n",
       "       'lebih dari 30 tahun'], dtype=object)"
      ]
     },
     "execution_count": 15,
     "metadata": {},
     "output_type": "execute_result"
    }
   ],
   "source": [
    "# Melihat apa saja isi dari kolom PENGALAMAN_MENGEMUDI\n",
    "asuransi_mobil.PENGALAMAN_MENGEMUDI.unique()"
   ]
  },
  {
   "cell_type": "code",
   "execution_count": 16,
   "id": "8b0ea94e",
   "metadata": {},
   "outputs": [
    {
     "data": {
      "text/plain": [
       "array(['SMA', 'tidak ada', 'universitas'], dtype=object)"
      ]
     },
     "execution_count": 16,
     "metadata": {},
     "output_type": "execute_result"
    }
   ],
   "source": [
    "# Melihat apa saja isi dari kolom PENDIDIKAN \n",
    "asuransi_mobil.PENDIDIKAN.unique()"
   ]
  },
  {
   "cell_type": "code",
   "execution_count": 17,
   "id": "3fb6a056",
   "metadata": {},
   "outputs": [
    {
     "data": {
      "text/plain": [
       "array(['lebih dari 3x UMR', 'kurang dari UMR', 'antara 1-2x UMR',\n",
       "       'antara 2-3x UMR'], dtype=object)"
      ]
     },
     "execution_count": 17,
     "metadata": {},
     "output_type": "execute_result"
    }
   ],
   "source": [
    "# Melihat apa saja isi dari kolom PENGHASILAN \n",
    "asuransi_mobil.PENGHASILAN.unique()"
   ]
  },
  {
   "cell_type": "code",
   "execution_count": 18,
   "id": "8496659e",
   "metadata": {},
   "outputs": [
    {
     "data": {
      "text/plain": [
       "array([0.62902731, 0.35775712, 0.49314579, ..., 0.47094023, 0.36418478,\n",
       "       0.43522478])"
      ]
     },
     "execution_count": 18,
     "metadata": {},
     "output_type": "execute_result"
    }
   ],
   "source": [
    "# Melihat apa saja isi dari kolom SKOR_KREDIT \n",
    "asuransi_mobil.SKOR_KREDIT.unique()"
   ]
  },
  {
   "cell_type": "code",
   "execution_count": 19,
   "id": "1da5128f",
   "metadata": {},
   "outputs": [
    {
     "data": {
      "text/plain": [
       "array(['ya', 'tidak'], dtype=object)"
      ]
     },
     "execution_count": 19,
     "metadata": {},
     "output_type": "execute_result"
    }
   ],
   "source": [
    "# Melihat apa saja isi dari kolom PEMILIK_KENDARAAN \n",
    "asuransi_mobil.PEMILIK_KENDARAAN.unique()"
   ]
  },
  {
   "cell_type": "code",
   "execution_count": 20,
   "id": "0257b32a",
   "metadata": {},
   "outputs": [
    {
     "data": {
      "text/plain": [
       "array(['setelah 2020', 'sebelum 2020'], dtype=object)"
      ]
     },
     "execution_count": 20,
     "metadata": {},
     "output_type": "execute_result"
    }
   ],
   "source": [
    "# Melihat apa saja isi dari kolom TAHUN_PRODUKSI \n",
    "asuransi_mobil.TAHUN_PRODUKSI.unique()"
   ]
  },
  {
   "cell_type": "code",
   "execution_count": 21,
   "id": "b31fc276",
   "metadata": {},
   "outputs": [
    {
     "data": {
      "text/plain": [
       "array(['belum menikah', 'menikah'], dtype=object)"
      ]
     },
     "execution_count": 21,
     "metadata": {},
     "output_type": "execute_result"
    }
   ],
   "source": [
    "# Melihat apa saja isi dari kolom STATUS \n",
    "asuransi_mobil.STATUS.unique()"
   ]
  },
  {
   "cell_type": "code",
   "execution_count": 22,
   "id": "cdcf7478",
   "metadata": {},
   "outputs": [
    {
     "data": {
      "text/plain": [
       "array(['ada', 'tidak ada'], dtype=object)"
      ]
     },
     "execution_count": 22,
     "metadata": {},
     "output_type": "execute_result"
    }
   ],
   "source": [
    "# Melihat apa saja isi dari kolom ANAK \n",
    "asuransi_mobil.ANAK.unique()"
   ]
  },
  {
   "cell_type": "code",
   "execution_count": 23,
   "id": "52e9bdf1",
   "metadata": {},
   "outputs": [
    {
     "data": {
      "text/plain": [
       "array([10238, 32765, 92101, 21217], dtype=int64)"
      ]
     },
     "execution_count": 23,
     "metadata": {},
     "output_type": "execute_result"
    }
   ],
   "source": [
    "# Melihat apa saja isi dari kolom KODE_POS \n",
    "asuransi_mobil.KODE_POS.unique()"
   ]
  },
  {
   "cell_type": "code",
   "execution_count": 24,
   "id": "9a17c942",
   "metadata": {},
   "outputs": [
    {
     "data": {
      "text/plain": [
       "array([12000., 16000., 11000., 13000., 14000., 10000.,  8000.,    nan,\n",
       "       18000., 17000.,  7000., 15000.,  9000.,  5000.,  6000., 19000.,\n",
       "        4000.,  3000.,  2000., 20000., 21000., 22000.])"
      ]
     },
     "execution_count": 24,
     "metadata": {},
     "output_type": "execute_result"
    }
   ],
   "source": [
    "# Melihat apa saja isi dari kolom KM_PER_TAHUN \n",
    "asuransi_mobil.KM_PER_TAHUN.unique()"
   ]
  },
  {
   "cell_type": "code",
   "execution_count": 37,
   "id": "533d1371",
   "metadata": {},
   "outputs": [
    {
     "data": {
      "text/plain": [
       "array(['keluarga', 'sport'], dtype=object)"
      ]
     },
     "execution_count": 37,
     "metadata": {},
     "output_type": "execute_result"
    }
   ],
   "source": [
    "# Melihat apa saja isi dari kolom JENIS_KENDARAAN \n",
    "asuransi_mobil.JENIS_KENDARAAN.unique()"
   ]
  },
  {
   "cell_type": "code",
   "execution_count": 26,
   "id": "56dd2f66",
   "metadata": {},
   "outputs": [
    {
     "data": {
      "text/plain": [
       "array([ 0,  2,  3,  7,  6,  4, 10, 13,  1,  5,  9,  8, 12, 11, 15, 17, 19,\n",
       "       18, 16, 14, 22], dtype=int64)"
      ]
     },
     "execution_count": 26,
     "metadata": {},
     "output_type": "execute_result"
    }
   ],
   "source": [
    "# Melihat apa saja isi dari kolom TILANG_NGEBUT \n",
    "asuransi_mobil.TILANG_NGEBUT.unique()"
   ]
  },
  {
   "cell_type": "code",
   "execution_count": 27,
   "id": "2c918440",
   "metadata": {},
   "outputs": [
    {
     "data": {
      "text/plain": [
       "array([0, 2, 1, 3, 4, 5, 6], dtype=int64)"
      ]
     },
     "execution_count": 27,
     "metadata": {},
     "output_type": "execute_result"
    }
   ],
   "source": [
    "# Melihat apa saja isi dari kolom TILANG_MABUK \n",
    "asuransi_mobil.TILANG_MABUK.unique()"
   ]
  },
  {
   "cell_type": "code",
   "execution_count": 28,
   "id": "edabea3b",
   "metadata": {},
   "outputs": [
    {
     "data": {
      "text/plain": [
       "array([ 0,  1,  3,  7,  2,  5,  4,  6,  8, 10, 11,  9, 12, 14, 15],\n",
       "      dtype=int64)"
      ]
     },
     "execution_count": 28,
     "metadata": {},
     "output_type": "execute_result"
    }
   ],
   "source": [
    "# Melihat apa saja isi dari kolom KECELAKAAN_SEBELUMNYA \n",
    "asuransi_mobil.KECELAKAAN_SEBELUMNYA.unique()"
   ]
  },
  {
   "cell_type": "code",
   "execution_count": 29,
   "id": "0dec3e0a",
   "metadata": {},
   "outputs": [
    {
     "data": {
      "text/plain": [
       "array(['tidak', 'ya'], dtype=object)"
      ]
     },
     "execution_count": 29,
     "metadata": {},
     "output_type": "execute_result"
    }
   ],
   "source": [
    "# Melihat apa saja isi dari kolom KLAIM \n",
    "asuransi_mobil.KLAIM.unique()"
   ]
  },
  {
   "cell_type": "code",
   "execution_count": 32,
   "id": "e7045b86",
   "metadata": {},
   "outputs": [],
   "source": [
    "# Melakukan mapping dari UMUR karena walaupun UMUR merupakan data kategori, akan tetapi terdapat peningkatan\n",
    "asuransi_mobil['UMUR'] = \\\n",
    "asuransi_mobil['UMUR'].map({'lebih dari 65 tahun':1,'antara 40-65 tahun':2,'antara 25-40 tahun':3,'kurang dari 25 tahun':4})"
   ]
  },
  {
   "cell_type": "code",
   "execution_count": 35,
   "id": "c165ef32",
   "metadata": {},
   "outputs": [],
   "source": [
    "# Melakukan mapping dari PENGALAMAN_MENGEMUDI karena walaupun PENGALAMAN_MENGEMUDI merupakan data kategori, akan tetapi terdapat peningkatan\n",
    "asuransi_mobil['PENGALAMAN_MENGEMUDI'] = \\\n",
    "asuransi_mobil['PENGALAMAN_MENGEMUDI'].map({'lebih dari 30 tahun':1,'antara 20-30 tahun':2,'antara 10-20 tahun':3,'kurang dari 10 tahun':4})"
   ]
  },
  {
   "cell_type": "code",
   "execution_count": 36,
   "id": "866693a0",
   "metadata": {},
   "outputs": [],
   "source": [
    "# Melakukan maping dari PENGHASILAN\n",
    "asuransi_mobil['PENGHASILAN'] = \\\n",
    "asuransi_mobil['PENGHASILAN'].map({'lebih dari 3x UMR':1,'antara 2-3x UMR':2,'antara 1-2x UMR':3,'kurang dari UMR':4})"
   ]
  },
  {
   "cell_type": "code",
   "execution_count": null,
   "id": "7336eacb",
   "metadata": {},
   "outputs": [],
   "source": [
    "# Melakukan maping dari TAHUN_PRODUKSI\n",
    "asuransi_mobil['TAHUN_PRODUKSI'] = \\\n",
    "asuransi_mobil['TAHUN_PRODUKSI'].map({'setelah 2020':1,'sebelum 2020':2})"
   ]
  },
  {
   "cell_type": "code",
   "execution_count": null,
   "id": "5ed0685c",
   "metadata": {},
   "outputs": [],
   "source": [
    "# Melakukan maping dari JENIS_KENDARAAN\n",
    "asuransi_mobil['JENIS_KENDARAAN'] = \\\n",
    "asuransi_mobil['JENIS_KENDARAAN'].map({'sport':1,'keluarga':2})"
   ]
  },
  {
   "cell_type": "code",
   "execution_count": 45,
   "id": "c00fa3ea",
   "metadata": {},
   "outputs": [],
   "source": [
    "data_categorical = ['JENIS_KELAMIN', ' PEMILIK_KENDARAAN', 'STATUS', 'ANAK', 'JENIS_KENDARAAN']\n",
    "data_numeric = ['UMUR', 'PENGALAMAN_MENGEMUDI', 'PENGHASILAN']\n",
    "data_binary = ['TAHUN_PRODUKSI']\n",
    "data_target = ['KLAIM']"
   ]
  },
  {
   "cell_type": "code",
   "execution_count": 47,
   "id": "15e7516e",
   "metadata": {},
   "outputs": [
    {
     "data": {
      "text/html": [
       "<div>\n",
       "<style scoped>\n",
       "    .dataframe tbody tr th:only-of-type {\n",
       "        vertical-align: middle;\n",
       "    }\n",
       "\n",
       "    .dataframe tbody tr th {\n",
       "        vertical-align: top;\n",
       "    }\n",
       "\n",
       "    .dataframe thead th {\n",
       "        text-align: right;\n",
       "    }\n",
       "</style>\n",
       "<table border=\"1\" class=\"dataframe\">\n",
       "  <thead>\n",
       "    <tr style=\"text-align: right;\">\n",
       "      <th></th>\n",
       "      <th>UMUR</th>\n",
       "      <th>PENGALAMAN_MENGEMUDI</th>\n",
       "      <th>PENGHASILAN</th>\n",
       "    </tr>\n",
       "  </thead>\n",
       "  <tbody>\n",
       "    <tr>\n",
       "      <th>0</th>\n",
       "      <td>0.000000</td>\n",
       "      <td>1.000000</td>\n",
       "      <td>0.000000</td>\n",
       "    </tr>\n",
       "    <tr>\n",
       "      <th>1</th>\n",
       "      <td>1.000000</td>\n",
       "      <td>1.000000</td>\n",
       "      <td>1.000000</td>\n",
       "    </tr>\n",
       "    <tr>\n",
       "      <th>2</th>\n",
       "      <td>1.000000</td>\n",
       "      <td>1.000000</td>\n",
       "      <td>0.666667</td>\n",
       "    </tr>\n",
       "    <tr>\n",
       "      <th>3</th>\n",
       "      <td>1.000000</td>\n",
       "      <td>1.000000</td>\n",
       "      <td>0.666667</td>\n",
       "    </tr>\n",
       "    <tr>\n",
       "      <th>4</th>\n",
       "      <td>0.666667</td>\n",
       "      <td>0.666667</td>\n",
       "      <td>0.666667</td>\n",
       "    </tr>\n",
       "    <tr>\n",
       "      <th>5</th>\n",
       "      <td>0.333333</td>\n",
       "      <td>0.333333</td>\n",
       "      <td>0.000000</td>\n",
       "    </tr>\n",
       "    <tr>\n",
       "      <th>6</th>\n",
       "      <td>0.000000</td>\n",
       "      <td>0.000000</td>\n",
       "      <td>0.000000</td>\n",
       "    </tr>\n",
       "    <tr>\n",
       "      <th>7</th>\n",
       "      <td>0.666667</td>\n",
       "      <td>1.000000</td>\n",
       "      <td>0.666667</td>\n",
       "    </tr>\n",
       "    <tr>\n",
       "      <th>8</th>\n",
       "      <td>0.333333</td>\n",
       "      <td>0.333333</td>\n",
       "      <td>0.666667</td>\n",
       "    </tr>\n",
       "    <tr>\n",
       "      <th>9</th>\n",
       "      <td>0.333333</td>\n",
       "      <td>1.000000</td>\n",
       "      <td>0.000000</td>\n",
       "    </tr>\n",
       "  </tbody>\n",
       "</table>\n",
       "</div>"
      ],
      "text/plain": [
       "       UMUR  PENGALAMAN_MENGEMUDI  PENGHASILAN\n",
       "0  0.000000              1.000000     0.000000\n",
       "1  1.000000              1.000000     1.000000\n",
       "2  1.000000              1.000000     0.666667\n",
       "3  1.000000              1.000000     0.666667\n",
       "4  0.666667              0.666667     0.666667\n",
       "5  0.333333              0.333333     0.000000\n",
       "6  0.000000              0.000000     0.000000\n",
       "7  0.666667              1.000000     0.666667\n",
       "8  0.333333              0.333333     0.666667\n",
       "9  0.333333              1.000000     0.000000"
      ]
     },
     "execution_count": 47,
     "metadata": {},
     "output_type": "execute_result"
    }
   ],
   "source": [
    "# Normalisasi data dalam bentuk numerik\n",
    "from sklearn import preprocessing\n",
    "\n",
    "scaler = preprocessing.MinMaxScaler()\n",
    "d = scaler.fit_transform(asuransi_mobil[data_numeric])\n",
    "data_normalisasi = pd.DataFrame(d, columns=asuransi_mobil[data_numeric].columns)\n",
    "data_normalisasi.head(10)"
   ]
  },
  {
   "cell_type": "code",
   "execution_count": 53,
   "id": "8e9dc3c2",
   "metadata": {},
   "outputs": [],
   "source": [
    "X = asuransi_mobil.drop(['KLAIM'], axis =1) \n",
    "y = asuransi_mobil['KLAIM']"
   ]
  },
  {
   "cell_type": "code",
   "execution_count": 54,
   "id": "2efe7791",
   "metadata": {},
   "outputs": [],
   "source": [
    "from sklearn.model_selection import train_test_split"
   ]
  },
  {
   "cell_type": "code",
   "execution_count": 55,
   "id": "c1b7e644",
   "metadata": {},
   "outputs": [],
   "source": [
    "X_train, X_test, y_train, y_test = train_test_split(X,y,test_size=0.2)"
   ]
  },
  {
   "cell_type": "code",
   "execution_count": 56,
   "id": "85820232",
   "metadata": {},
   "outputs": [],
   "source": [
    "from sklearn.svm import SVC\n",
    "model_svm = SVC()"
   ]
  },
  {
   "cell_type": "code",
   "execution_count": 59,
   "id": "e0f52c9e",
   "metadata": {
    "scrolled": true
   },
   "outputs": [
    {
     "ename": "ValueError",
     "evalue": "could not convert string to float: 'perempuan'",
     "output_type": "error",
     "traceback": [
      "\u001b[1;31m---------------------------------------------------------------------------\u001b[0m",
      "\u001b[1;31mValueError\u001b[0m                                Traceback (most recent call last)",
      "\u001b[1;32m~\\AppData\\Local\\Temp\\ipykernel_2140\\2250025237.py\u001b[0m in \u001b[0;36m<module>\u001b[1;34m\u001b[0m\n\u001b[1;32m----> 1\u001b[1;33m \u001b[0mmodel_svm\u001b[0m\u001b[1;33m.\u001b[0m\u001b[0mfit\u001b[0m\u001b[1;33m(\u001b[0m\u001b[0mX_train\u001b[0m\u001b[1;33m,\u001b[0m\u001b[0my_train\u001b[0m\u001b[1;33m)\u001b[0m\u001b[1;33m\u001b[0m\u001b[1;33m\u001b[0m\u001b[0m\n\u001b[0m",
      "\u001b[1;32m~\\anaconda3\\lib\\site-packages\\sklearn\\svm\\_base.py\u001b[0m in \u001b[0;36mfit\u001b[1;34m(self, X, y, sample_weight)\u001b[0m\n\u001b[0;32m    188\u001b[0m             \u001b[0mcheck_consistent_length\u001b[0m\u001b[1;33m(\u001b[0m\u001b[0mX\u001b[0m\u001b[1;33m,\u001b[0m \u001b[0my\u001b[0m\u001b[1;33m)\u001b[0m\u001b[1;33m\u001b[0m\u001b[1;33m\u001b[0m\u001b[0m\n\u001b[0;32m    189\u001b[0m         \u001b[1;32melse\u001b[0m\u001b[1;33m:\u001b[0m\u001b[1;33m\u001b[0m\u001b[1;33m\u001b[0m\u001b[0m\n\u001b[1;32m--> 190\u001b[1;33m             X, y = self._validate_data(\n\u001b[0m\u001b[0;32m    191\u001b[0m                 \u001b[0mX\u001b[0m\u001b[1;33m,\u001b[0m\u001b[1;33m\u001b[0m\u001b[1;33m\u001b[0m\u001b[0m\n\u001b[0;32m    192\u001b[0m                 \u001b[0my\u001b[0m\u001b[1;33m,\u001b[0m\u001b[1;33m\u001b[0m\u001b[1;33m\u001b[0m\u001b[0m\n",
      "\u001b[1;32m~\\anaconda3\\lib\\site-packages\\sklearn\\base.py\u001b[0m in \u001b[0;36m_validate_data\u001b[1;34m(self, X, y, reset, validate_separately, **check_params)\u001b[0m\n\u001b[0;32m    579\u001b[0m                 \u001b[0my\u001b[0m \u001b[1;33m=\u001b[0m \u001b[0mcheck_array\u001b[0m\u001b[1;33m(\u001b[0m\u001b[0my\u001b[0m\u001b[1;33m,\u001b[0m \u001b[1;33m**\u001b[0m\u001b[0mcheck_y_params\u001b[0m\u001b[1;33m)\u001b[0m\u001b[1;33m\u001b[0m\u001b[1;33m\u001b[0m\u001b[0m\n\u001b[0;32m    580\u001b[0m             \u001b[1;32melse\u001b[0m\u001b[1;33m:\u001b[0m\u001b[1;33m\u001b[0m\u001b[1;33m\u001b[0m\u001b[0m\n\u001b[1;32m--> 581\u001b[1;33m                 \u001b[0mX\u001b[0m\u001b[1;33m,\u001b[0m \u001b[0my\u001b[0m \u001b[1;33m=\u001b[0m \u001b[0mcheck_X_y\u001b[0m\u001b[1;33m(\u001b[0m\u001b[0mX\u001b[0m\u001b[1;33m,\u001b[0m \u001b[0my\u001b[0m\u001b[1;33m,\u001b[0m \u001b[1;33m**\u001b[0m\u001b[0mcheck_params\u001b[0m\u001b[1;33m)\u001b[0m\u001b[1;33m\u001b[0m\u001b[1;33m\u001b[0m\u001b[0m\n\u001b[0m\u001b[0;32m    582\u001b[0m             \u001b[0mout\u001b[0m \u001b[1;33m=\u001b[0m \u001b[0mX\u001b[0m\u001b[1;33m,\u001b[0m \u001b[0my\u001b[0m\u001b[1;33m\u001b[0m\u001b[1;33m\u001b[0m\u001b[0m\n\u001b[0;32m    583\u001b[0m \u001b[1;33m\u001b[0m\u001b[0m\n",
      "\u001b[1;32m~\\anaconda3\\lib\\site-packages\\sklearn\\utils\\validation.py\u001b[0m in \u001b[0;36mcheck_X_y\u001b[1;34m(X, y, accept_sparse, accept_large_sparse, dtype, order, copy, force_all_finite, ensure_2d, allow_nd, multi_output, ensure_min_samples, ensure_min_features, y_numeric, estimator)\u001b[0m\n\u001b[0;32m    962\u001b[0m         \u001b[1;32mraise\u001b[0m \u001b[0mValueError\u001b[0m\u001b[1;33m(\u001b[0m\u001b[1;34m\"y cannot be None\"\u001b[0m\u001b[1;33m)\u001b[0m\u001b[1;33m\u001b[0m\u001b[1;33m\u001b[0m\u001b[0m\n\u001b[0;32m    963\u001b[0m \u001b[1;33m\u001b[0m\u001b[0m\n\u001b[1;32m--> 964\u001b[1;33m     X = check_array(\n\u001b[0m\u001b[0;32m    965\u001b[0m         \u001b[0mX\u001b[0m\u001b[1;33m,\u001b[0m\u001b[1;33m\u001b[0m\u001b[1;33m\u001b[0m\u001b[0m\n\u001b[0;32m    966\u001b[0m         \u001b[0maccept_sparse\u001b[0m\u001b[1;33m=\u001b[0m\u001b[0maccept_sparse\u001b[0m\u001b[1;33m,\u001b[0m\u001b[1;33m\u001b[0m\u001b[1;33m\u001b[0m\u001b[0m\n",
      "\u001b[1;32m~\\anaconda3\\lib\\site-packages\\sklearn\\utils\\validation.py\u001b[0m in \u001b[0;36mcheck_array\u001b[1;34m(array, accept_sparse, accept_large_sparse, dtype, order, copy, force_all_finite, ensure_2d, allow_nd, ensure_min_samples, ensure_min_features, estimator)\u001b[0m\n\u001b[0;32m    744\u001b[0m                     \u001b[0marray\u001b[0m \u001b[1;33m=\u001b[0m \u001b[0marray\u001b[0m\u001b[1;33m.\u001b[0m\u001b[0mastype\u001b[0m\u001b[1;33m(\u001b[0m\u001b[0mdtype\u001b[0m\u001b[1;33m,\u001b[0m \u001b[0mcasting\u001b[0m\u001b[1;33m=\u001b[0m\u001b[1;34m\"unsafe\"\u001b[0m\u001b[1;33m,\u001b[0m \u001b[0mcopy\u001b[0m\u001b[1;33m=\u001b[0m\u001b[1;32mFalse\u001b[0m\u001b[1;33m)\u001b[0m\u001b[1;33m\u001b[0m\u001b[1;33m\u001b[0m\u001b[0m\n\u001b[0;32m    745\u001b[0m                 \u001b[1;32melse\u001b[0m\u001b[1;33m:\u001b[0m\u001b[1;33m\u001b[0m\u001b[1;33m\u001b[0m\u001b[0m\n\u001b[1;32m--> 746\u001b[1;33m                     \u001b[0marray\u001b[0m \u001b[1;33m=\u001b[0m \u001b[0mnp\u001b[0m\u001b[1;33m.\u001b[0m\u001b[0masarray\u001b[0m\u001b[1;33m(\u001b[0m\u001b[0marray\u001b[0m\u001b[1;33m,\u001b[0m \u001b[0morder\u001b[0m\u001b[1;33m=\u001b[0m\u001b[0morder\u001b[0m\u001b[1;33m,\u001b[0m \u001b[0mdtype\u001b[0m\u001b[1;33m=\u001b[0m\u001b[0mdtype\u001b[0m\u001b[1;33m)\u001b[0m\u001b[1;33m\u001b[0m\u001b[1;33m\u001b[0m\u001b[0m\n\u001b[0m\u001b[0;32m    747\u001b[0m             \u001b[1;32mexcept\u001b[0m \u001b[0mComplexWarning\u001b[0m \u001b[1;32mas\u001b[0m \u001b[0mcomplex_warning\u001b[0m\u001b[1;33m:\u001b[0m\u001b[1;33m\u001b[0m\u001b[1;33m\u001b[0m\u001b[0m\n\u001b[0;32m    748\u001b[0m                 raise ValueError(\n",
      "\u001b[1;32m~\\anaconda3\\lib\\site-packages\\pandas\\core\\generic.py\u001b[0m in \u001b[0;36m__array__\u001b[1;34m(self, dtype)\u001b[0m\n\u001b[0;32m   2062\u001b[0m \u001b[1;33m\u001b[0m\u001b[0m\n\u001b[0;32m   2063\u001b[0m     \u001b[1;32mdef\u001b[0m \u001b[0m__array__\u001b[0m\u001b[1;33m(\u001b[0m\u001b[0mself\u001b[0m\u001b[1;33m,\u001b[0m \u001b[0mdtype\u001b[0m\u001b[1;33m:\u001b[0m \u001b[0mnpt\u001b[0m\u001b[1;33m.\u001b[0m\u001b[0mDTypeLike\u001b[0m \u001b[1;33m|\u001b[0m \u001b[1;32mNone\u001b[0m \u001b[1;33m=\u001b[0m \u001b[1;32mNone\u001b[0m\u001b[1;33m)\u001b[0m \u001b[1;33m->\u001b[0m \u001b[0mnp\u001b[0m\u001b[1;33m.\u001b[0m\u001b[0mndarray\u001b[0m\u001b[1;33m:\u001b[0m\u001b[1;33m\u001b[0m\u001b[1;33m\u001b[0m\u001b[0m\n\u001b[1;32m-> 2064\u001b[1;33m         \u001b[1;32mreturn\u001b[0m \u001b[0mnp\u001b[0m\u001b[1;33m.\u001b[0m\u001b[0masarray\u001b[0m\u001b[1;33m(\u001b[0m\u001b[0mself\u001b[0m\u001b[1;33m.\u001b[0m\u001b[0m_values\u001b[0m\u001b[1;33m,\u001b[0m \u001b[0mdtype\u001b[0m\u001b[1;33m=\u001b[0m\u001b[0mdtype\u001b[0m\u001b[1;33m)\u001b[0m\u001b[1;33m\u001b[0m\u001b[1;33m\u001b[0m\u001b[0m\n\u001b[0m\u001b[0;32m   2065\u001b[0m \u001b[1;33m\u001b[0m\u001b[0m\n\u001b[0;32m   2066\u001b[0m     def __array_wrap__(\n",
      "\u001b[1;31mValueError\u001b[0m: could not convert string to float: 'perempuan'"
     ]
    }
   ],
   "source": [
    "model_svm.fit(X_train,y_train)"
   ]
  },
  {
   "cell_type": "code",
   "execution_count": null,
   "id": "33c97796",
   "metadata": {},
   "outputs": [],
   "source": []
  }
 ],
 "metadata": {
  "kernelspec": {
   "display_name": "Python 3 (ipykernel)",
   "language": "python",
   "name": "python3"
  },
  "language_info": {
   "codemirror_mode": {
    "name": "ipython",
    "version": 3
   },
   "file_extension": ".py",
   "mimetype": "text/x-python",
   "name": "python",
   "nbconvert_exporter": "python",
   "pygments_lexer": "ipython3",
   "version": "3.9.13"
  }
 },
 "nbformat": 4,
 "nbformat_minor": 5
}
